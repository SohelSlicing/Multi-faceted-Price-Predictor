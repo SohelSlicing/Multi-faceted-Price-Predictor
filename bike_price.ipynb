{
 "cells": [
  {
   "cell_type": "markdown",
   "metadata": {},
   "source": [
    "## Importing libraries and data "
   ]
  },
  {
   "cell_type": "code",
   "execution_count": 3,
   "metadata": {},
   "outputs": [],
   "source": [
    "import pandas as pd\n",
    "import numpy as np\n",
    "import matplotlib.pyplot as plt"
   ]
  },
  {
   "cell_type": "code",
   "execution_count": 4,
   "metadata": {},
   "outputs": [],
   "source": [
    "dataset = pd.read_csv('Data/Bike price dataset/Used_Bikes.csv')"
   ]
  },
  {
   "cell_type": "code",
   "execution_count": 5,
   "metadata": {},
   "outputs": [
    {
     "data": {
      "text/html": [
       "<div>\n",
       "<style scoped>\n",
       "    .dataframe tbody tr th:only-of-type {\n",
       "        vertical-align: middle;\n",
       "    }\n",
       "\n",
       "    .dataframe tbody tr th {\n",
       "        vertical-align: top;\n",
       "    }\n",
       "\n",
       "    .dataframe thead th {\n",
       "        text-align: right;\n",
       "    }\n",
       "</style>\n",
       "<table border=\"1\" class=\"dataframe\">\n",
       "  <thead>\n",
       "    <tr style=\"text-align: right;\">\n",
       "      <th></th>\n",
       "      <th>bike_name</th>\n",
       "      <th>price</th>\n",
       "      <th>city</th>\n",
       "      <th>kms_driven</th>\n",
       "      <th>owner</th>\n",
       "      <th>age</th>\n",
       "      <th>power</th>\n",
       "      <th>brand</th>\n",
       "    </tr>\n",
       "  </thead>\n",
       "  <tbody>\n",
       "    <tr>\n",
       "      <th>0</th>\n",
       "      <td>TVS Star City Plus Dual Tone 110cc</td>\n",
       "      <td>35000.0</td>\n",
       "      <td>Ahmedabad</td>\n",
       "      <td>17654.0</td>\n",
       "      <td>First Owner</td>\n",
       "      <td>3.0</td>\n",
       "      <td>110.0</td>\n",
       "      <td>TVS</td>\n",
       "    </tr>\n",
       "    <tr>\n",
       "      <th>1</th>\n",
       "      <td>Royal Enfield Classic 350cc</td>\n",
       "      <td>119900.0</td>\n",
       "      <td>Delhi</td>\n",
       "      <td>11000.0</td>\n",
       "      <td>First Owner</td>\n",
       "      <td>4.0</td>\n",
       "      <td>350.0</td>\n",
       "      <td>Royal Enfield</td>\n",
       "    </tr>\n",
       "    <tr>\n",
       "      <th>2</th>\n",
       "      <td>Triumph Daytona 675R</td>\n",
       "      <td>600000.0</td>\n",
       "      <td>Delhi</td>\n",
       "      <td>110.0</td>\n",
       "      <td>First Owner</td>\n",
       "      <td>8.0</td>\n",
       "      <td>675.0</td>\n",
       "      <td>Triumph</td>\n",
       "    </tr>\n",
       "    <tr>\n",
       "      <th>3</th>\n",
       "      <td>TVS Apache RTR 180cc</td>\n",
       "      <td>65000.0</td>\n",
       "      <td>Bangalore</td>\n",
       "      <td>16329.0</td>\n",
       "      <td>First Owner</td>\n",
       "      <td>4.0</td>\n",
       "      <td>180.0</td>\n",
       "      <td>TVS</td>\n",
       "    </tr>\n",
       "    <tr>\n",
       "      <th>4</th>\n",
       "      <td>Yamaha FZ S V 2.0 150cc-Ltd. Edition</td>\n",
       "      <td>80000.0</td>\n",
       "      <td>Bangalore</td>\n",
       "      <td>10000.0</td>\n",
       "      <td>First Owner</td>\n",
       "      <td>3.0</td>\n",
       "      <td>150.0</td>\n",
       "      <td>Yamaha</td>\n",
       "    </tr>\n",
       "  </tbody>\n",
       "</table>\n",
       "</div>"
      ],
      "text/plain": [
       "                              bike_name     price       city  kms_driven  \\\n",
       "0    TVS Star City Plus Dual Tone 110cc   35000.0  Ahmedabad     17654.0   \n",
       "1           Royal Enfield Classic 350cc  119900.0      Delhi     11000.0   \n",
       "2                  Triumph Daytona 675R  600000.0      Delhi       110.0   \n",
       "3                  TVS Apache RTR 180cc   65000.0  Bangalore     16329.0   \n",
       "4  Yamaha FZ S V 2.0 150cc-Ltd. Edition   80000.0  Bangalore     10000.0   \n",
       "\n",
       "         owner  age  power          brand  \n",
       "0  First Owner  3.0  110.0            TVS  \n",
       "1  First Owner  4.0  350.0  Royal Enfield  \n",
       "2  First Owner  8.0  675.0        Triumph  \n",
       "3  First Owner  4.0  180.0            TVS  \n",
       "4  First Owner  3.0  150.0         Yamaha  "
      ]
     },
     "execution_count": 5,
     "metadata": {},
     "output_type": "execute_result"
    }
   ],
   "source": [
    "dataset.head()"
   ]
  },
  {
   "cell_type": "code",
   "execution_count": 6,
   "metadata": {},
   "outputs": [
    {
     "data": {
      "text/plain": [
       "(32648, 8)"
      ]
     },
     "execution_count": 6,
     "metadata": {},
     "output_type": "execute_result"
    }
   ],
   "source": [
    "dataset.shape"
   ]
  },
  {
   "cell_type": "code",
   "execution_count": 7,
   "metadata": {},
   "outputs": [
    {
     "name": "stdout",
     "output_type": "stream",
     "text": [
      "<class 'pandas.core.frame.DataFrame'>\n",
      "RangeIndex: 32648 entries, 0 to 32647\n",
      "Data columns (total 8 columns):\n",
      " #   Column      Non-Null Count  Dtype  \n",
      "---  ------      --------------  -----  \n",
      " 0   bike_name   32648 non-null  object \n",
      " 1   price       32648 non-null  float64\n",
      " 2   city        32648 non-null  object \n",
      " 3   kms_driven  32648 non-null  float64\n",
      " 4   owner       32648 non-null  object \n",
      " 5   age         32648 non-null  float64\n",
      " 6   power       32648 non-null  float64\n",
      " 7   brand       32648 non-null  object \n",
      "dtypes: float64(4), object(4)\n",
      "memory usage: 2.0+ MB\n"
     ]
    }
   ],
   "source": [
    "dataset.info()"
   ]
  },
  {
   "cell_type": "markdown",
   "metadata": {},
   "source": [
    "### Some changes needed in the data\n",
    "- convert float values to int to help with the data size\n",
    "- use only the first 4 words of the names"
   ]
  },
  {
   "cell_type": "code",
   "execution_count": 8,
   "metadata": {},
   "outputs": [],
   "source": [
    "dataset['price'] = dataset['price'].astype(int) \n",
    "dataset['kms_driven'] = dataset['kms_driven'].astype(int)\n",
    "dataset['age'] = dataset['age'].astype(int)\n",
    "dataset['power'] = dataset['power'].astype(int)"
   ]
  },
  {
   "cell_type": "code",
   "execution_count": 9,
   "metadata": {},
   "outputs": [],
   "source": [
    "dataset['bike_name'] = dataset['bike_name'].str.split(\" \").str.slice(0,4).str.join(' ')"
   ]
  },
  {
   "cell_type": "code",
   "execution_count": 10,
   "metadata": {},
   "outputs": [
    {
     "data": {
      "text/plain": [
       "array(['TVS Star City Plus', 'Royal Enfield Classic 350cc',\n",
       "       'Triumph Daytona 675R', 'TVS Apache RTR 180cc', 'Yamaha FZ S V',\n",
       "       'Yamaha FZs 150cc', 'Honda CB Hornet 160R',\n",
       "       'Hero Splendor Plus Self', 'Royal Enfield Thunderbird X',\n",
       "       'Royal Enfield Classic Desert', 'Yamaha YZF-R15 2.0 150cc',\n",
       "       'Yamaha FZ25 250cc', 'Bajaj Pulsar NS200', 'Bajaj Discover 100M',\n",
       "       'Bajaj Discover 125M', 'Bajaj Pulsar NS200 ABS',\n",
       "       'Bajaj Pulsar RS200 ABS', 'Suzuki Gixxer SF 150cc',\n",
       "       'Benelli 302R 300CC', 'Hero Splendor iSmart Plus',\n",
       "       'Royal Enfield Classic Chrome', 'Yamaha FZ V 2.0',\n",
       "       'Hero Super Splendor 125cc', 'Honda CBF Stunner 125cc',\n",
       "       'Bajaj Pulsar 150cc', 'Honda X-Blade 160CC ABS',\n",
       "       'Bajaj Avenger 220cc', 'KTM RC 390cc', 'Honda CB Unicorn 150cc',\n",
       "       'KTM Duke 200cc', 'Honda CBR 150R 150cc', 'KTM RC 200cc ABS',\n",
       "       'Royal Enfield Thunderbird 350cc', 'Royal Enfield Bullet Electra',\n",
       "       'Bajaj Avenger Street 220', 'Mahindra Centuro NXT 110cc',\n",
       "       'Hero Hunk 150cc', 'Suzuki Gixxer SF Fi', 'Yamaha FZ 150cc',\n",
       "       'Royal Enfield\\u200e Bullet 350cc', 'TVS Apache RTR 160cc',\n",
       "       'Honda CB Shine 125cc', 'Benelli TNT 600i ABS',\n",
       "       'Honda Dream Yuga 110cc', 'Yamaha SZ 150cc', 'Suzuki Gixxer 150cc',\n",
       "       'Bajaj Avenger Cruise 220', 'Kawasaki Z900', 'Bajaj Pulsar 220cc',\n",
       "       'Hero CD Deluxe 100cc', 'Kawasaki Ninja 650cc',\n",
       "       'Bajaj Platina 125cc', 'Hero Karizma ZMR 223cc',\n",
       "       'Bajaj Pulsar 180cc', 'Yamaha FZ25 ABS 250cc',\n",
       "       'Bajaj CT 100 100cc', 'Royal Enfield Interceptor 650cc',\n",
       "       'KTM Duke 250cc', 'Royal Enfield Himalayan 410cc',\n",
       "       'Bajaj Pulsar 135LS', 'Bajaj Pulsar 220F', 'Yamaha FZ16 150cc',\n",
       "       'Ducati Scrambler 1100 Special', 'Triumph Street Triple 765',\n",
       "       'Bajaj V15 150cc', 'Suzuki Gixxer Fi 150cc',\n",
       "       'Hero Splendor plus 100cc', 'KTM Duke 390cc', 'Honda CBR 250R',\n",
       "       'Bajaj Pulsar RS200', 'Benelli TNT 600i', 'Suzuki Gixxer 150cc SP',\n",
       "       'Royal Enfield Classic 500cc', 'Hyosung GT650R',\n",
       "       'Yamaha YZF-R15 S 150cc', 'TVS Apache RTR 160', 'Benelli TNT 300',\n",
       "       'Honda CB ShineSP 125cc', 'Hero Passion Pro 100cc',\n",
       "       'Hero Splendor Plus 100cc', 'Yamaha YZF R6 600cc',\n",
       "       'Ducati 1299 Superleggera', 'Royal Enfield Electra 350cc',\n",
       "       'TVS Phoenix Disc 125cc', 'Harley-Davidson Street 750',\n",
       "       'Bajaj Discover 150cc', 'Royal Enfield Standard 350cc',\n",
       "       'Honda CB Unicorn ABS', 'Yamaha YZF-R15 V3 150cc',\n",
       "       'Bajaj Pulsar NS 200', 'Bajaj Dominar 400', 'Honda X-Blade 160cc',\n",
       "       'Suzuki Hayabusa 1300cc', 'Ducati Monster 821 Dark',\n",
       "       'KTM RC 200cc', 'Bajaj Discover 125ST', 'Hero Splendor Plus Kick',\n",
       "       'Hero Karizma 223cc', 'Hero Splendor 100cc',\n",
       "       'Ducati 1198 SP 1198cc', 'Royal Enfield Bullet 500cc',\n",
       "       'Yamaha Fazer 150cc', 'Yamaha Gladiator 125cc',\n",
       "       'Hero Karizma R 223cc', 'Harley-Davidson Iron 883',\n",
       "       'TVS Apache RTR 200', 'Bajaj Dominar 400 ABS',\n",
       "       'Royal Enfield Classic Gunmetal', 'Hero HF Deluxe i3s',\n",
       "       'Hero Splendor iSmart 110cc', 'Bajaj Platina 100cc',\n",
       "       'Royal Enfield Bullet Twinspark', 'TVS Star City 110cc',\n",
       "       'Bajaj Platina  Alloy', 'Ducati Panigale 959',\n",
       "       'Royal Enfield Classic 350cc-Redditch', 'TVS Sport 100cc',\n",
       "       'Bajaj Pulsar AS200', 'Honda Livo 110cc', 'Yamaha SZ-RR 150cc',\n",
       "       'Royal Enfield Thunderbird 500cc', 'Bajaj Discover 150F Disc',\n",
       "       'Yamaha Saluto 125cc Disc', 'Triumph Street Triple ABS',\n",
       "       'Honda CBR 250R ABS', 'Hyosung Aquila GV250',\n",
       "       'Jawa Forty Two 295CC', 'Bajaj V12 125cc', 'Bajaj V12 125cc Disc',\n",
       "       'Yamaha Fazer 25 250cc', 'Hero Xpulse 200T',\n",
       "       'Hero Passion Xpro 110cc', 'Yamaha YZF-R3 320cc ABS',\n",
       "       'Royal Enfield Bullet 350', 'Hero HF Deluxe 100cc',\n",
       "       'Honda CB Twister 110cc', 'Bajaj Pulsar 125cc Disc',\n",
       "       'Honda Dream Neo 110cc', 'BMW G 310 R', 'Bajaj Pulsar AS150',\n",
       "       'Kawasaki Ninja 250cc', 'Benelli TNT 899',\n",
       "       'Indian Chief Classic 1800cc', 'Hero Achiever 150cc',\n",
       "       'TVS Apache 150cc', 'Kawasaki ER-6n 650cc', 'Hero HF Deluxe Self',\n",
       "       'Bajaj Pulsar NS160', 'Suzuki Intruder 150cc', 'Bajaj CT 100 B',\n",
       "       'Hero Passion Pro 110cc', 'Yamaha YZF-R15 150cc',\n",
       "       'Mahindra Mojo 300cc', 'Hero Ignitor Disc 125cc',\n",
       "       'Bajaj Avenger Street 150', 'Royal Enfield Continental GT',\n",
       "       'Hero Glamour Disc 125cc', 'Hero HF Dawn 100cc',\n",
       "       'Suzuki Slingshot Plus 125cc', 'Mahindra Centuro Rockstar 110cc',\n",
       "       'Mahindra Centuro 110cc', 'Harley-Davidson Street Rod XG750A',\n",
       "       'Hero Splendor Plus IBS', 'Bajaj Discover 135cc',\n",
       "       'Bajaj Discover 125cc', 'Honda CB Unicorn 160', 'KTM Duke 125cc',\n",
       "       'Bajaj Boxer BM150', 'Hero Glamour 125cc', 'Bajaj Discover 100cc',\n",
       "       'Bajaj Avenger Street 180', 'Honda CB Trigger 150cc',\n",
       "       'Kawasaki Ninja 650 KRT', 'Bajaj Platina 100cc ComforTec',\n",
       "       'Benelli TNT R 1130cc', 'Honda CB Unicorn Dazzler',\n",
       "       'Benelli TNT 600 GT', 'Hyosung GT250R', 'Yamaha YZF-R1 1000cc',\n",
       "       'Hero Xtreme 200R', 'Ducati Diavel 1200cc',\n",
       "       'Triumph Speed Triple 1050cc', 'Indian Scout Bobber 1130cc',\n",
       "       'Bajaj V15 150cc POWER', 'Jawa Standard 295CC', 'Yamaha SZR 150cc',\n",
       "       'TVS Star Sport 100cc', 'Hyosung Aquila 250 250cc',\n",
       "       'Kawasaki Z650', 'Hero CD Dawn 100cc', 'Hero Passion 100cc',\n",
       "       'Suzuki Intruder SP 150cc', 'Yamaha YZF-R3 320cc',\n",
       "       'TVS Apache RR310', 'Hero Passion Plus 100cc', 'Hero CBZ 150cc',\n",
       "       'Yamaha FZS FI 150cc', 'Suzuki GS 150 R',\n",
       "       'Royal Enfield Machismo 500cc', 'Hero CBZ Xtreme 150cc',\n",
       "       'Yamaha SZ RR V', 'Hero Honda Splendor 100cc',\n",
       "       'Honda CBR 150R Deluxe', 'Hero Ignitor 125cc',\n",
       "       'Bajaj Pulsar 200cc', 'Kawasaki Ninja 300cc',\n",
       "       'Kawasaki Ninja 300 ABS', 'Bajaj Pulsar 150cc Rear',\n",
       "       'Hero Splendor NXG 100cc', 'Hero Achiever Disc 150cc',\n",
       "       'Harley-Davidson Street 750 ABS', 'KTM Duke 250cc ABS',\n",
       "       'Bajaj Pulsar 200 NS', 'Mahindra Mojo Tourer Edition',\n",
       "       'Hero Passion Pro i3S', 'Hero Xtreme 150cc', 'Bajaj Boxer CT100',\n",
       "       'Royal Enfield Bullet 350cc', 'Royal Enfield Standard 500cc',\n",
       "       'Hyosung Aquila Pro GV650', 'Suzuki V-Strom 1000cc',\n",
       "       'KTM RC 125CC', 'Suzuki Gixxer SF 250cc',\n",
       "       'Harley-Davidson 1200 Custom', 'Hero Splendor Pro 100cc',\n",
       "       'Suzuki Hayate 110cc', 'Yamaha Fazer FI V',\n",
       "       'TVS Victor 110cc Disc', 'Royal Enfield Classic Stealth',\n",
       "       'Honda Livo Disc 110cc', 'Bajaj Discover 110cc', 'Hero CD 100SS',\n",
       "       'Hero Honda Splendor Plus', 'Bajaj Discover 100T',\n",
       "       'Hero HF Deluxe self', 'Benelli TNT 25 250cc',\n",
       "       'Yamaha MT-15 150cc', 'Triumph Tiger 800 XRX',\n",
       "       'Ducati XDiavel 1262CC S', 'TVS Suzuki Shogun 110cc',\n",
       "       'Bajaj Discover 125cc Disc', 'Triumph Thunderbird Storm 1700cc',\n",
       "       'Suzuki GSX-S750', 'TVS Flame 125cc', 'Triumph Tiger 800 XCA',\n",
       "       'Royal Enfield Machismo 350cc', 'TVS Victor 110cc',\n",
       "       'Honda CBR650R', 'Hero Xpulse 200cc FI', 'Rajdoot GTX 175cc',\n",
       "       'Hero Xtreme 200R ABS', 'TVS Apache RR310 Slipper',\n",
       "       'Mahindra Mojo UT300', 'Bajaj Pulsar  180cc', 'Honda CD 110 Dream',\n",
       "       'Hero Xtreme Sports Rear', 'Bajaj CT 100 ES',\n",
       "       'Bajaj  Pulsar 180cc', 'Bajaj Discover 150F', 'Hyosung GT 650N',\n",
       "       'Triumph Street Twin 900cc', 'Bajaj CT 100 Alloy',\n",
       "       'Yamaha YZF-R1M 1000cc', 'Hero Glamour i3s 125cc',\n",
       "       'Harley-Davidson Roadster XL 1200CX', 'Triumph Tiger 800 XR',\n",
       "       'KTM Duke 200cc ABS', 'Honda CBR1000RR Fireblade',\n",
       "       'Honda SP125 Disc BS6', 'Bajaj Platina 110 H',\n",
       "       'Hero Splendor Plus 100', 'Honda CBR 250R Repsol',\n",
       "       'Triumph Bonneville T100 865cc', 'Yamaha RX135 135cc 4-Speed',\n",
       "       'Benelli 302R', 'Hero Splendor iSmart 100cc', 'Honda CB 1000R',\n",
       "       'Honda CBR 600RR', 'Ducati Monster 797', 'Ducati Monster 1200',\n",
       "       'Suzuki GSX-R 1000cc', 'Ducati Monster 796 Corse', 'Kawasaki Z250',\n",
       "       'Royal Enfield Classic Squadron', 'Suzuki Gixxer 150cc Dual',\n",
       "       'BMW G 310 GS', 'Suzuki Intruder 150cc FI',\n",
       "       'Bajaj Platina 110 CBS', 'Hero Xtreme Sports 150cc',\n",
       "       'Kawasaki Versys 650cc', 'Ducati Multistrada 1200 Enduro',\n",
       "       'Hero Xtreme Sports 149cc', 'Triumph Thruxton R 1200cc',\n",
       "       'BMW S 1000 XR', 'Hero HF Deluxe Eco', 'Bajaj XCD 125',\n",
       "       'Bajaj CT110 ES Alloy', 'Triumph Bonneville T100 900cc',\n",
       "       'Bajaj Avenger Street 160', 'Hero Splendor+ 100cc',\n",
       "       'Suzuki Heat 125cc', 'Yamaha Fazer25 250cc',\n",
       "       'Bajaj Pulsar NS160 Rear', 'Bajaj Discover150 150cc',\n",
       "       'Bajaj Discover 125T', 'Bajaj Pulsar 150cc Classic',\n",
       "       'Yamaha Saluto 125cc', 'Hero Passion XPRO 110', 'TVS Fiero 150cc',\n",
       "       'Mahindra Mojo XT300', 'Bajaj Platina Alloy ES', 'TVS Jive 110cc',\n",
       "       'Bajaj Boxer AT100', 'Bajaj Discover 150S Disc',\n",
       "       'TVS Radeon 110cc Drum', 'Suzuki Gixxer 150cc ABS',\n",
       "       'Suzuki Hayate EP 110cc', 'Yamaha SZX 150cc',\n",
       "       'Hero CBZ Star 160cc', 'Hero Passion PRO ', 'Bajaj Avenger 200cc',\n",
       "       'Hero Honda Ambition 135cc', 'Bajaj Pulsar 135LS 135cc',\n",
       "       'Bajaj CT 100 KS', 'BMW S 1000 RR', 'Kawasaki Versys 1000',\n",
       "       'Honda CB Unicorn 150', 'Kawasaki Z800', 'Hero Glamour PGM Fi',\n",
       "       'LML Freedom DX 110cc', 'Harley-Davidson XG750 750cc',\n",
       "       'Yezdi Classic 250cc', 'TVS Star 100cc', 'Bajaj XCD 135',\n",
       "       'Bajaj Avenger 150cc', 'Hero HF Deluxe 100',\n",
       "       'Yamaha Fazer FI 150cc', 'Yamaha FZ V 3.0', 'Yamaha SS 125 125cc',\n",
       "       'TVS Victor GX 110cc', 'Hero Passion Pro TR', 'Honda CBR 650 F',\n",
       "       'TVS Sports plus ES', 'BMW F750 GS 850cc', 'Hero Glamour Fi 125cc',\n",
       "       'Bajaj Pulsar NS 200cc', 'Yamaha YBR 110cc', 'Bajaj CT 100 Spoke',\n",
       "       'Yamaha Crux 110cc', 'Yamaha Saluto RX 110cc',\n",
       "       'MV Agusta Brutale 1090', 'MV Agusta F3 800cc',\n",
       "       'Kawasaki Ninja 400', 'Benelli TRK 502X', 'TVS Phoenix 125cc',\n",
       "       'Harley-Davidson Fat Bob 107', 'Ideal Jawa Yezdi CL-II',\n",
       "       'Hero Splendor Pro Classic', 'Yamaha FZ Fi Version',\n",
       "       'Yamaha SZS 150cc', 'Triumph Daytona 675 ABS',\n",
       "       'Harley-Davidson Sportster 883', 'Suzuki Zeus 125cc',\n",
       "       'Yamaha Saluto 125cc-Special Edition', 'Bajaj Avenger 180cc',\n",
       "       'Bajaj Pulsar 150cc Neon', 'Kawasaki Z1000', 'Hero CBZ Xtreme 150',\n",
       "       'Kawasaki Vulcan S 650cc', 'Yamaha RX-Z 135cc',\n",
       "       'Yamaha Libero G5 110cc', 'Bajaj Pulsar RS200 ',\n",
       "       'Bajaj Discover150S 150cc', 'Hero i Smart 125cc',\n",
       "       'Hero Splendor Plus ', 'Hero Karizma 223 cc', 'TVS MAX 4R 110cc',\n",
       "       'Mahindra Pantero 110cc', 'Hero Ambition 135cc',\n",
       "       'Hero Hunk Rear Disc'], dtype=object)"
      ]
     },
     "execution_count": 10,
     "metadata": {},
     "output_type": "execute_result"
    }
   ],
   "source": [
    "dataset['bike_name'].unique()"
   ]
  },
  {
   "cell_type": "code",
   "execution_count": 11,
   "metadata": {},
   "outputs": [],
   "source": [
    "X = dataset.drop(columns= 'price') \n",
    "y = dataset['price']"
   ]
  },
  {
   "cell_type": "code",
   "execution_count": 12,
   "metadata": {},
   "outputs": [
    {
     "data": {
      "text/html": [
       "<div>\n",
       "<style scoped>\n",
       "    .dataframe tbody tr th:only-of-type {\n",
       "        vertical-align: middle;\n",
       "    }\n",
       "\n",
       "    .dataframe tbody tr th {\n",
       "        vertical-align: top;\n",
       "    }\n",
       "\n",
       "    .dataframe thead th {\n",
       "        text-align: right;\n",
       "    }\n",
       "</style>\n",
       "<table border=\"1\" class=\"dataframe\">\n",
       "  <thead>\n",
       "    <tr style=\"text-align: right;\">\n",
       "      <th></th>\n",
       "      <th>bike_name</th>\n",
       "      <th>city</th>\n",
       "      <th>kms_driven</th>\n",
       "      <th>owner</th>\n",
       "      <th>age</th>\n",
       "      <th>power</th>\n",
       "      <th>brand</th>\n",
       "    </tr>\n",
       "  </thead>\n",
       "  <tbody>\n",
       "    <tr>\n",
       "      <th>0</th>\n",
       "      <td>TVS Star City Plus</td>\n",
       "      <td>Ahmedabad</td>\n",
       "      <td>17654</td>\n",
       "      <td>First Owner</td>\n",
       "      <td>3</td>\n",
       "      <td>110</td>\n",
       "      <td>TVS</td>\n",
       "    </tr>\n",
       "    <tr>\n",
       "      <th>1</th>\n",
       "      <td>Royal Enfield Classic 350cc</td>\n",
       "      <td>Delhi</td>\n",
       "      <td>11000</td>\n",
       "      <td>First Owner</td>\n",
       "      <td>4</td>\n",
       "      <td>350</td>\n",
       "      <td>Royal Enfield</td>\n",
       "    </tr>\n",
       "    <tr>\n",
       "      <th>2</th>\n",
       "      <td>Triumph Daytona 675R</td>\n",
       "      <td>Delhi</td>\n",
       "      <td>110</td>\n",
       "      <td>First Owner</td>\n",
       "      <td>8</td>\n",
       "      <td>675</td>\n",
       "      <td>Triumph</td>\n",
       "    </tr>\n",
       "    <tr>\n",
       "      <th>3</th>\n",
       "      <td>TVS Apache RTR 180cc</td>\n",
       "      <td>Bangalore</td>\n",
       "      <td>16329</td>\n",
       "      <td>First Owner</td>\n",
       "      <td>4</td>\n",
       "      <td>180</td>\n",
       "      <td>TVS</td>\n",
       "    </tr>\n",
       "    <tr>\n",
       "      <th>4</th>\n",
       "      <td>Yamaha FZ S V</td>\n",
       "      <td>Bangalore</td>\n",
       "      <td>10000</td>\n",
       "      <td>First Owner</td>\n",
       "      <td>3</td>\n",
       "      <td>150</td>\n",
       "      <td>Yamaha</td>\n",
       "    </tr>\n",
       "  </tbody>\n",
       "</table>\n",
       "</div>"
      ],
      "text/plain": [
       "                     bike_name       city  kms_driven        owner  age  \\\n",
       "0           TVS Star City Plus  Ahmedabad       17654  First Owner    3   \n",
       "1  Royal Enfield Classic 350cc      Delhi       11000  First Owner    4   \n",
       "2         Triumph Daytona 675R      Delhi         110  First Owner    8   \n",
       "3         TVS Apache RTR 180cc  Bangalore       16329  First Owner    4   \n",
       "4                Yamaha FZ S V  Bangalore       10000  First Owner    3   \n",
       "\n",
       "   power          brand  \n",
       "0    110            TVS  \n",
       "1    350  Royal Enfield  \n",
       "2    675        Triumph  \n",
       "3    180            TVS  \n",
       "4    150         Yamaha  "
      ]
     },
     "execution_count": 12,
     "metadata": {},
     "output_type": "execute_result"
    }
   ],
   "source": [
    "X.head()"
   ]
  },
  {
   "cell_type": "code",
   "execution_count": 13,
   "metadata": {},
   "outputs": [],
   "source": [
    "from posixpath import split\n",
    "from sklearn.model_selection import train_test_split\n",
    "X_train, X_test, y_train, y_test = train_test_split(X, y, train_size = 0.2)"
   ]
  },
  {
   "cell_type": "code",
   "execution_count": 14,
   "metadata": {},
   "outputs": [
    {
     "data": {
      "text/html": [
       "<div>\n",
       "<style scoped>\n",
       "    .dataframe tbody tr th:only-of-type {\n",
       "        vertical-align: middle;\n",
       "    }\n",
       "\n",
       "    .dataframe tbody tr th {\n",
       "        vertical-align: top;\n",
       "    }\n",
       "\n",
       "    .dataframe thead th {\n",
       "        text-align: right;\n",
       "    }\n",
       "</style>\n",
       "<table border=\"1\" class=\"dataframe\">\n",
       "  <thead>\n",
       "    <tr style=\"text-align: right;\">\n",
       "      <th></th>\n",
       "      <th>bike_name</th>\n",
       "      <th>city</th>\n",
       "      <th>kms_driven</th>\n",
       "      <th>owner</th>\n",
       "      <th>age</th>\n",
       "      <th>power</th>\n",
       "      <th>brand</th>\n",
       "    </tr>\n",
       "  </thead>\n",
       "  <tbody>\n",
       "    <tr>\n",
       "      <th>5464</th>\n",
       "      <td>TVS Apache RTR 160cc</td>\n",
       "      <td>Ghaziabad</td>\n",
       "      <td>19542</td>\n",
       "      <td>First Owner</td>\n",
       "      <td>7</td>\n",
       "      <td>160</td>\n",
       "      <td>TVS</td>\n",
       "    </tr>\n",
       "    <tr>\n",
       "      <th>11900</th>\n",
       "      <td>Yamaha FZ 150cc</td>\n",
       "      <td>Chennai</td>\n",
       "      <td>18742</td>\n",
       "      <td>First Owner</td>\n",
       "      <td>6</td>\n",
       "      <td>150</td>\n",
       "      <td>Yamaha</td>\n",
       "    </tr>\n",
       "    <tr>\n",
       "      <th>21234</th>\n",
       "      <td>Hero Passion 100cc</td>\n",
       "      <td>Hyderabad</td>\n",
       "      <td>3869</td>\n",
       "      <td>First Owner</td>\n",
       "      <td>16</td>\n",
       "      <td>100</td>\n",
       "      <td>Hero</td>\n",
       "    </tr>\n",
       "    <tr>\n",
       "      <th>28083</th>\n",
       "      <td>Hero Passion Pro 100cc</td>\n",
       "      <td>Delhi</td>\n",
       "      <td>22000</td>\n",
       "      <td>First Owner</td>\n",
       "      <td>4</td>\n",
       "      <td>100</td>\n",
       "      <td>Hero</td>\n",
       "    </tr>\n",
       "    <tr>\n",
       "      <th>28181</th>\n",
       "      <td>Hero Super Splendor 125cc</td>\n",
       "      <td>Jaipur</td>\n",
       "      <td>84186</td>\n",
       "      <td>First Owner</td>\n",
       "      <td>16</td>\n",
       "      <td>125</td>\n",
       "      <td>Hero</td>\n",
       "    </tr>\n",
       "  </tbody>\n",
       "</table>\n",
       "</div>"
      ],
      "text/plain": [
       "                       bike_name       city  kms_driven        owner  age  \\\n",
       "5464        TVS Apache RTR 160cc  Ghaziabad       19542  First Owner    7   \n",
       "11900            Yamaha FZ 150cc    Chennai       18742  First Owner    6   \n",
       "21234         Hero Passion 100cc  Hyderabad        3869  First Owner   16   \n",
       "28083     Hero Passion Pro 100cc      Delhi       22000  First Owner    4   \n",
       "28181  Hero Super Splendor 125cc     Jaipur       84186  First Owner   16   \n",
       "\n",
       "       power   brand  \n",
       "5464     160     TVS  \n",
       "11900    150  Yamaha  \n",
       "21234    100    Hero  \n",
       "28083    100    Hero  \n",
       "28181    125    Hero  "
      ]
     },
     "execution_count": 14,
     "metadata": {},
     "output_type": "execute_result"
    }
   ],
   "source": [
    "X_train.head()"
   ]
  },
  {
   "cell_type": "markdown",
   "metadata": {},
   "source": [
    "## Creating a model pipeline \n",
    "- Using onehotencoder for categorical data\n",
    "- applying linear regression to the data"
   ]
  },
  {
   "cell_type": "code",
   "execution_count": 15,
   "metadata": {},
   "outputs": [],
   "source": [
    "# Importing the libraries\n",
    "from sklearn.linear_model import LinearRegression\n",
    "from sklearn.metrics import r2_score\n",
    "from sklearn.preprocessing import OneHotEncoder\n",
    "from sklearn.compose import make_column_transformer\n",
    "from sklearn.pipeline import make_pipeline"
   ]
  },
  {
   "cell_type": "code",
   "execution_count": 16,
   "metadata": {},
   "outputs": [
    {
     "data": {
      "text/html": [
       "<style>#sk-container-id-1 {color: black;background-color: white;}#sk-container-id-1 pre{padding: 0;}#sk-container-id-1 div.sk-toggleable {background-color: white;}#sk-container-id-1 label.sk-toggleable__label {cursor: pointer;display: block;width: 100%;margin-bottom: 0;padding: 0.3em;box-sizing: border-box;text-align: center;}#sk-container-id-1 label.sk-toggleable__label-arrow:before {content: \"▸\";float: left;margin-right: 0.25em;color: #696969;}#sk-container-id-1 label.sk-toggleable__label-arrow:hover:before {color: black;}#sk-container-id-1 div.sk-estimator:hover label.sk-toggleable__label-arrow:before {color: black;}#sk-container-id-1 div.sk-toggleable__content {max-height: 0;max-width: 0;overflow: hidden;text-align: left;background-color: #f0f8ff;}#sk-container-id-1 div.sk-toggleable__content pre {margin: 0.2em;color: black;border-radius: 0.25em;background-color: #f0f8ff;}#sk-container-id-1 input.sk-toggleable__control:checked~div.sk-toggleable__content {max-height: 200px;max-width: 100%;overflow: auto;}#sk-container-id-1 input.sk-toggleable__control:checked~label.sk-toggleable__label-arrow:before {content: \"▾\";}#sk-container-id-1 div.sk-estimator input.sk-toggleable__control:checked~label.sk-toggleable__label {background-color: #d4ebff;}#sk-container-id-1 div.sk-label input.sk-toggleable__control:checked~label.sk-toggleable__label {background-color: #d4ebff;}#sk-container-id-1 input.sk-hidden--visually {border: 0;clip: rect(1px 1px 1px 1px);clip: rect(1px, 1px, 1px, 1px);height: 1px;margin: -1px;overflow: hidden;padding: 0;position: absolute;width: 1px;}#sk-container-id-1 div.sk-estimator {font-family: monospace;background-color: #f0f8ff;border: 1px dotted black;border-radius: 0.25em;box-sizing: border-box;margin-bottom: 0.5em;}#sk-container-id-1 div.sk-estimator:hover {background-color: #d4ebff;}#sk-container-id-1 div.sk-parallel-item::after {content: \"\";width: 100%;border-bottom: 1px solid gray;flex-grow: 1;}#sk-container-id-1 div.sk-label:hover label.sk-toggleable__label {background-color: #d4ebff;}#sk-container-id-1 div.sk-serial::before {content: \"\";position: absolute;border-left: 1px solid gray;box-sizing: border-box;top: 0;bottom: 0;left: 50%;z-index: 0;}#sk-container-id-1 div.sk-serial {display: flex;flex-direction: column;align-items: center;background-color: white;padding-right: 0.2em;padding-left: 0.2em;position: relative;}#sk-container-id-1 div.sk-item {position: relative;z-index: 1;}#sk-container-id-1 div.sk-parallel {display: flex;align-items: stretch;justify-content: center;background-color: white;position: relative;}#sk-container-id-1 div.sk-item::before, #sk-container-id-1 div.sk-parallel-item::before {content: \"\";position: absolute;border-left: 1px solid gray;box-sizing: border-box;top: 0;bottom: 0;left: 50%;z-index: -1;}#sk-container-id-1 div.sk-parallel-item {display: flex;flex-direction: column;z-index: 1;position: relative;background-color: white;}#sk-container-id-1 div.sk-parallel-item:first-child::after {align-self: flex-end;width: 50%;}#sk-container-id-1 div.sk-parallel-item:last-child::after {align-self: flex-start;width: 50%;}#sk-container-id-1 div.sk-parallel-item:only-child::after {width: 0;}#sk-container-id-1 div.sk-dashed-wrapped {border: 1px dashed gray;margin: 0 0.4em 0.5em 0.4em;box-sizing: border-box;padding-bottom: 0.4em;background-color: white;}#sk-container-id-1 div.sk-label label {font-family: monospace;font-weight: bold;display: inline-block;line-height: 1.2em;}#sk-container-id-1 div.sk-label-container {text-align: center;}#sk-container-id-1 div.sk-container {/* jupyter's `normalize.less` sets `[hidden] { display: none; }` but bootstrap.min.css set `[hidden] { display: none !important; }` so we also need the `!important` here to be able to override the default hidden behavior on the sphinx rendered scikit-learn.org. See: https://github.com/scikit-learn/scikit-learn/issues/21755 */display: inline-block !important;position: relative;}#sk-container-id-1 div.sk-text-repr-fallback {display: none;}</style><div id=\"sk-container-id-1\" class=\"sk-top-container\"><div class=\"sk-text-repr-fallback\"><pre>OneHotEncoder()</pre><b>In a Jupyter environment, please rerun this cell to show the HTML representation or trust the notebook. <br />On GitHub, the HTML representation is unable to render, please try loading this page with nbviewer.org.</b></div><div class=\"sk-container\" hidden><div class=\"sk-item\"><div class=\"sk-estimator sk-toggleable\"><input class=\"sk-toggleable__control sk-hidden--visually\" id=\"sk-estimator-id-1\" type=\"checkbox\" checked><label for=\"sk-estimator-id-1\" class=\"sk-toggleable__label sk-toggleable__label-arrow\">OneHotEncoder</label><div class=\"sk-toggleable__content\"><pre>OneHotEncoder()</pre></div></div></div></div></div>"
      ],
      "text/plain": [
       "OneHotEncoder()"
      ]
     },
     "execution_count": 16,
     "metadata": {},
     "output_type": "execute_result"
    }
   ],
   "source": [
    "encoder = OneHotEncoder()\n",
    "encoder.fit(X[['bike_name', 'city', 'owner', 'brand']])"
   ]
  },
  {
   "cell_type": "code",
   "execution_count": 17,
   "metadata": {},
   "outputs": [],
   "source": [
    "transformer = make_column_transformer(\n",
    "    (OneHotEncoder(categories = encoder.categories_), ['bike_name', 'city', 'owner', 'brand']),\n",
    "    remainder = 'passthrough'\n",
    ")\n"
   ]
  },
  {
   "cell_type": "code",
   "execution_count": 18,
   "metadata": {},
   "outputs": [],
   "source": [
    "regressor = LinearRegression()\n",
    "\n",
    "pipeline = make_pipeline(\n",
    "    transformer, regressor\n",
    ")"
   ]
  },
  {
   "cell_type": "code",
   "execution_count": 19,
   "metadata": {},
   "outputs": [
    {
     "data": {
      "text/html": [
       "<style>#sk-container-id-2 {color: black;background-color: white;}#sk-container-id-2 pre{padding: 0;}#sk-container-id-2 div.sk-toggleable {background-color: white;}#sk-container-id-2 label.sk-toggleable__label {cursor: pointer;display: block;width: 100%;margin-bottom: 0;padding: 0.3em;box-sizing: border-box;text-align: center;}#sk-container-id-2 label.sk-toggleable__label-arrow:before {content: \"▸\";float: left;margin-right: 0.25em;color: #696969;}#sk-container-id-2 label.sk-toggleable__label-arrow:hover:before {color: black;}#sk-container-id-2 div.sk-estimator:hover label.sk-toggleable__label-arrow:before {color: black;}#sk-container-id-2 div.sk-toggleable__content {max-height: 0;max-width: 0;overflow: hidden;text-align: left;background-color: #f0f8ff;}#sk-container-id-2 div.sk-toggleable__content pre {margin: 0.2em;color: black;border-radius: 0.25em;background-color: #f0f8ff;}#sk-container-id-2 input.sk-toggleable__control:checked~div.sk-toggleable__content {max-height: 200px;max-width: 100%;overflow: auto;}#sk-container-id-2 input.sk-toggleable__control:checked~label.sk-toggleable__label-arrow:before {content: \"▾\";}#sk-container-id-2 div.sk-estimator input.sk-toggleable__control:checked~label.sk-toggleable__label {background-color: #d4ebff;}#sk-container-id-2 div.sk-label input.sk-toggleable__control:checked~label.sk-toggleable__label {background-color: #d4ebff;}#sk-container-id-2 input.sk-hidden--visually {border: 0;clip: rect(1px 1px 1px 1px);clip: rect(1px, 1px, 1px, 1px);height: 1px;margin: -1px;overflow: hidden;padding: 0;position: absolute;width: 1px;}#sk-container-id-2 div.sk-estimator {font-family: monospace;background-color: #f0f8ff;border: 1px dotted black;border-radius: 0.25em;box-sizing: border-box;margin-bottom: 0.5em;}#sk-container-id-2 div.sk-estimator:hover {background-color: #d4ebff;}#sk-container-id-2 div.sk-parallel-item::after {content: \"\";width: 100%;border-bottom: 1px solid gray;flex-grow: 1;}#sk-container-id-2 div.sk-label:hover label.sk-toggleable__label {background-color: #d4ebff;}#sk-container-id-2 div.sk-serial::before {content: \"\";position: absolute;border-left: 1px solid gray;box-sizing: border-box;top: 0;bottom: 0;left: 50%;z-index: 0;}#sk-container-id-2 div.sk-serial {display: flex;flex-direction: column;align-items: center;background-color: white;padding-right: 0.2em;padding-left: 0.2em;position: relative;}#sk-container-id-2 div.sk-item {position: relative;z-index: 1;}#sk-container-id-2 div.sk-parallel {display: flex;align-items: stretch;justify-content: center;background-color: white;position: relative;}#sk-container-id-2 div.sk-item::before, #sk-container-id-2 div.sk-parallel-item::before {content: \"\";position: absolute;border-left: 1px solid gray;box-sizing: border-box;top: 0;bottom: 0;left: 50%;z-index: -1;}#sk-container-id-2 div.sk-parallel-item {display: flex;flex-direction: column;z-index: 1;position: relative;background-color: white;}#sk-container-id-2 div.sk-parallel-item:first-child::after {align-self: flex-end;width: 50%;}#sk-container-id-2 div.sk-parallel-item:last-child::after {align-self: flex-start;width: 50%;}#sk-container-id-2 div.sk-parallel-item:only-child::after {width: 0;}#sk-container-id-2 div.sk-dashed-wrapped {border: 1px dashed gray;margin: 0 0.4em 0.5em 0.4em;box-sizing: border-box;padding-bottom: 0.4em;background-color: white;}#sk-container-id-2 div.sk-label label {font-family: monospace;font-weight: bold;display: inline-block;line-height: 1.2em;}#sk-container-id-2 div.sk-label-container {text-align: center;}#sk-container-id-2 div.sk-container {/* jupyter's `normalize.less` sets `[hidden] { display: none; }` but bootstrap.min.css set `[hidden] { display: none !important; }` so we also need the `!important` here to be able to override the default hidden behavior on the sphinx rendered scikit-learn.org. See: https://github.com/scikit-learn/scikit-learn/issues/21755 */display: inline-block !important;position: relative;}#sk-container-id-2 div.sk-text-repr-fallback {display: none;}</style><div id=\"sk-container-id-2\" class=\"sk-top-container\"><div class=\"sk-text-repr-fallback\"><pre>Pipeline(steps=[(&#x27;columntransformer&#x27;,\n",
       "                 ColumnTransformer(remainder=&#x27;passthrough&#x27;,\n",
       "                                   transformers=[(&#x27;onehotencoder&#x27;,\n",
       "                                                  OneHotEncoder(categories=[array([&#x27;BMW F750 GS 850cc&#x27;, &#x27;BMW G 310 GS&#x27;, &#x27;BMW G 310 R&#x27;,\n",
       "       &#x27;BMW S 1000 RR&#x27;, &#x27;BMW S 1000 XR&#x27;, &#x27;Bajaj  Pulsar 180cc&#x27;,\n",
       "       &#x27;Bajaj Avenger 150cc&#x27;, &#x27;Bajaj Avenger 180cc&#x27;,\n",
       "       &#x27;Bajaj Avenger 200cc&#x27;, &#x27;Bajaj Avenger 220cc&#x27;,\n",
       "       &#x27;Bajaj Avenger Cruise 220&#x27;, &#x27;Bajaj Avenger Stree...\n",
       "                                                                            array([&#x27;First Owner&#x27;, &#x27;Fourth Owner Or More&#x27;, &#x27;Second Owner&#x27;,\n",
       "       &#x27;Third Owner&#x27;], dtype=object),\n",
       "                                                                            array([&#x27;BMW&#x27;, &#x27;Bajaj&#x27;, &#x27;Benelli&#x27;, &#x27;Ducati&#x27;, &#x27;Harley-Davidson&#x27;, &#x27;Hero&#x27;,\n",
       "       &#x27;Honda&#x27;, &#x27;Hyosung&#x27;, &#x27;Ideal&#x27;, &#x27;Indian&#x27;, &#x27;Jawa&#x27;, &#x27;KTM&#x27;, &#x27;Kawasaki&#x27;,\n",
       "       &#x27;LML&#x27;, &#x27;MV&#x27;, &#x27;Mahindra&#x27;, &#x27;Rajdoot&#x27;, &#x27;Royal Enfield&#x27;, &#x27;Suzuki&#x27;,\n",
       "       &#x27;TVS&#x27;, &#x27;Triumph&#x27;, &#x27;Yamaha&#x27;, &#x27;Yezdi&#x27;], dtype=object)]),\n",
       "                                                  [&#x27;bike_name&#x27;, &#x27;city&#x27;, &#x27;owner&#x27;,\n",
       "                                                   &#x27;brand&#x27;])])),\n",
       "                (&#x27;linearregression&#x27;, LinearRegression())])</pre><b>In a Jupyter environment, please rerun this cell to show the HTML representation or trust the notebook. <br />On GitHub, the HTML representation is unable to render, please try loading this page with nbviewer.org.</b></div><div class=\"sk-container\" hidden><div class=\"sk-item sk-dashed-wrapped\"><div class=\"sk-label-container\"><div class=\"sk-label sk-toggleable\"><input class=\"sk-toggleable__control sk-hidden--visually\" id=\"sk-estimator-id-2\" type=\"checkbox\" ><label for=\"sk-estimator-id-2\" class=\"sk-toggleable__label sk-toggleable__label-arrow\">Pipeline</label><div class=\"sk-toggleable__content\"><pre>Pipeline(steps=[(&#x27;columntransformer&#x27;,\n",
       "                 ColumnTransformer(remainder=&#x27;passthrough&#x27;,\n",
       "                                   transformers=[(&#x27;onehotencoder&#x27;,\n",
       "                                                  OneHotEncoder(categories=[array([&#x27;BMW F750 GS 850cc&#x27;, &#x27;BMW G 310 GS&#x27;, &#x27;BMW G 310 R&#x27;,\n",
       "       &#x27;BMW S 1000 RR&#x27;, &#x27;BMW S 1000 XR&#x27;, &#x27;Bajaj  Pulsar 180cc&#x27;,\n",
       "       &#x27;Bajaj Avenger 150cc&#x27;, &#x27;Bajaj Avenger 180cc&#x27;,\n",
       "       &#x27;Bajaj Avenger 200cc&#x27;, &#x27;Bajaj Avenger 220cc&#x27;,\n",
       "       &#x27;Bajaj Avenger Cruise 220&#x27;, &#x27;Bajaj Avenger Stree...\n",
       "                                                                            array([&#x27;First Owner&#x27;, &#x27;Fourth Owner Or More&#x27;, &#x27;Second Owner&#x27;,\n",
       "       &#x27;Third Owner&#x27;], dtype=object),\n",
       "                                                                            array([&#x27;BMW&#x27;, &#x27;Bajaj&#x27;, &#x27;Benelli&#x27;, &#x27;Ducati&#x27;, &#x27;Harley-Davidson&#x27;, &#x27;Hero&#x27;,\n",
       "       &#x27;Honda&#x27;, &#x27;Hyosung&#x27;, &#x27;Ideal&#x27;, &#x27;Indian&#x27;, &#x27;Jawa&#x27;, &#x27;KTM&#x27;, &#x27;Kawasaki&#x27;,\n",
       "       &#x27;LML&#x27;, &#x27;MV&#x27;, &#x27;Mahindra&#x27;, &#x27;Rajdoot&#x27;, &#x27;Royal Enfield&#x27;, &#x27;Suzuki&#x27;,\n",
       "       &#x27;TVS&#x27;, &#x27;Triumph&#x27;, &#x27;Yamaha&#x27;, &#x27;Yezdi&#x27;], dtype=object)]),\n",
       "                                                  [&#x27;bike_name&#x27;, &#x27;city&#x27;, &#x27;owner&#x27;,\n",
       "                                                   &#x27;brand&#x27;])])),\n",
       "                (&#x27;linearregression&#x27;, LinearRegression())])</pre></div></div></div><div class=\"sk-serial\"><div class=\"sk-item sk-dashed-wrapped\"><div class=\"sk-label-container\"><div class=\"sk-label sk-toggleable\"><input class=\"sk-toggleable__control sk-hidden--visually\" id=\"sk-estimator-id-3\" type=\"checkbox\" ><label for=\"sk-estimator-id-3\" class=\"sk-toggleable__label sk-toggleable__label-arrow\">columntransformer: ColumnTransformer</label><div class=\"sk-toggleable__content\"><pre>ColumnTransformer(remainder=&#x27;passthrough&#x27;,\n",
       "                  transformers=[(&#x27;onehotencoder&#x27;,\n",
       "                                 OneHotEncoder(categories=[array([&#x27;BMW F750 GS 850cc&#x27;, &#x27;BMW G 310 GS&#x27;, &#x27;BMW G 310 R&#x27;,\n",
       "       &#x27;BMW S 1000 RR&#x27;, &#x27;BMW S 1000 XR&#x27;, &#x27;Bajaj  Pulsar 180cc&#x27;,\n",
       "       &#x27;Bajaj Avenger 150cc&#x27;, &#x27;Bajaj Avenger 180cc&#x27;,\n",
       "       &#x27;Bajaj Avenger 200cc&#x27;, &#x27;Bajaj Avenger 220cc&#x27;,\n",
       "       &#x27;Bajaj Avenger Cruise 220&#x27;, &#x27;Bajaj Avenger Street 150&#x27;,\n",
       "       &#x27;Bajaj Avenger Street 160&#x27;, &#x27;Bajaj A...\n",
       "                                                           array([&#x27;First Owner&#x27;, &#x27;Fourth Owner Or More&#x27;, &#x27;Second Owner&#x27;,\n",
       "       &#x27;Third Owner&#x27;], dtype=object),\n",
       "                                                           array([&#x27;BMW&#x27;, &#x27;Bajaj&#x27;, &#x27;Benelli&#x27;, &#x27;Ducati&#x27;, &#x27;Harley-Davidson&#x27;, &#x27;Hero&#x27;,\n",
       "       &#x27;Honda&#x27;, &#x27;Hyosung&#x27;, &#x27;Ideal&#x27;, &#x27;Indian&#x27;, &#x27;Jawa&#x27;, &#x27;KTM&#x27;, &#x27;Kawasaki&#x27;,\n",
       "       &#x27;LML&#x27;, &#x27;MV&#x27;, &#x27;Mahindra&#x27;, &#x27;Rajdoot&#x27;, &#x27;Royal Enfield&#x27;, &#x27;Suzuki&#x27;,\n",
       "       &#x27;TVS&#x27;, &#x27;Triumph&#x27;, &#x27;Yamaha&#x27;, &#x27;Yezdi&#x27;], dtype=object)]),\n",
       "                                 [&#x27;bike_name&#x27;, &#x27;city&#x27;, &#x27;owner&#x27;, &#x27;brand&#x27;])])</pre></div></div></div><div class=\"sk-parallel\"><div class=\"sk-parallel-item\"><div class=\"sk-item\"><div class=\"sk-label-container\"><div class=\"sk-label sk-toggleable\"><input class=\"sk-toggleable__control sk-hidden--visually\" id=\"sk-estimator-id-4\" type=\"checkbox\" ><label for=\"sk-estimator-id-4\" class=\"sk-toggleable__label sk-toggleable__label-arrow\">onehotencoder</label><div class=\"sk-toggleable__content\"><pre>[&#x27;bike_name&#x27;, &#x27;city&#x27;, &#x27;owner&#x27;, &#x27;brand&#x27;]</pre></div></div></div><div class=\"sk-serial\"><div class=\"sk-item\"><div class=\"sk-estimator sk-toggleable\"><input class=\"sk-toggleable__control sk-hidden--visually\" id=\"sk-estimator-id-5\" type=\"checkbox\" ><label for=\"sk-estimator-id-5\" class=\"sk-toggleable__label sk-toggleable__label-arrow\">OneHotEncoder</label><div class=\"sk-toggleable__content\"><pre>OneHotEncoder(categories=[array([&#x27;BMW F750 GS 850cc&#x27;, &#x27;BMW G 310 GS&#x27;, &#x27;BMW G 310 R&#x27;,\n",
       "       &#x27;BMW S 1000 RR&#x27;, &#x27;BMW S 1000 XR&#x27;, &#x27;Bajaj  Pulsar 180cc&#x27;,\n",
       "       &#x27;Bajaj Avenger 150cc&#x27;, &#x27;Bajaj Avenger 180cc&#x27;,\n",
       "       &#x27;Bajaj Avenger 200cc&#x27;, &#x27;Bajaj Avenger 220cc&#x27;,\n",
       "       &#x27;Bajaj Avenger Cruise 220&#x27;, &#x27;Bajaj Avenger Street 150&#x27;,\n",
       "       &#x27;Bajaj Avenger Street 160&#x27;, &#x27;Bajaj Avenger Street 180&#x27;,\n",
       "       &#x27;Bajaj Avenger Street 220&#x27;, &#x27;Bajaj Boxer AT100&#x27;,\n",
       "       &#x27;Bajaj Boxer BM1...\n",
       "       &#x27;Vizianagaram&#x27;, &#x27;Warangal&#x27;, &#x27;Wardha&#x27;, &#x27;Yamuna Nagar&#x27;, &#x27;Yemmiganur&#x27;,\n",
       "       &#x27;Zirakpur&#x27;], dtype=object),\n",
       "                          array([&#x27;First Owner&#x27;, &#x27;Fourth Owner Or More&#x27;, &#x27;Second Owner&#x27;,\n",
       "       &#x27;Third Owner&#x27;], dtype=object),\n",
       "                          array([&#x27;BMW&#x27;, &#x27;Bajaj&#x27;, &#x27;Benelli&#x27;, &#x27;Ducati&#x27;, &#x27;Harley-Davidson&#x27;, &#x27;Hero&#x27;,\n",
       "       &#x27;Honda&#x27;, &#x27;Hyosung&#x27;, &#x27;Ideal&#x27;, &#x27;Indian&#x27;, &#x27;Jawa&#x27;, &#x27;KTM&#x27;, &#x27;Kawasaki&#x27;,\n",
       "       &#x27;LML&#x27;, &#x27;MV&#x27;, &#x27;Mahindra&#x27;, &#x27;Rajdoot&#x27;, &#x27;Royal Enfield&#x27;, &#x27;Suzuki&#x27;,\n",
       "       &#x27;TVS&#x27;, &#x27;Triumph&#x27;, &#x27;Yamaha&#x27;, &#x27;Yezdi&#x27;], dtype=object)])</pre></div></div></div></div></div></div><div class=\"sk-parallel-item\"><div class=\"sk-item\"><div class=\"sk-label-container\"><div class=\"sk-label sk-toggleable\"><input class=\"sk-toggleable__control sk-hidden--visually\" id=\"sk-estimator-id-6\" type=\"checkbox\" ><label for=\"sk-estimator-id-6\" class=\"sk-toggleable__label sk-toggleable__label-arrow\">remainder</label><div class=\"sk-toggleable__content\"><pre>[&#x27;kms_driven&#x27;, &#x27;age&#x27;, &#x27;power&#x27;]</pre></div></div></div><div class=\"sk-serial\"><div class=\"sk-item\"><div class=\"sk-estimator sk-toggleable\"><input class=\"sk-toggleable__control sk-hidden--visually\" id=\"sk-estimator-id-7\" type=\"checkbox\" ><label for=\"sk-estimator-id-7\" class=\"sk-toggleable__label sk-toggleable__label-arrow\">passthrough</label><div class=\"sk-toggleable__content\"><pre>passthrough</pre></div></div></div></div></div></div></div></div><div class=\"sk-item\"><div class=\"sk-estimator sk-toggleable\"><input class=\"sk-toggleable__control sk-hidden--visually\" id=\"sk-estimator-id-8\" type=\"checkbox\" ><label for=\"sk-estimator-id-8\" class=\"sk-toggleable__label sk-toggleable__label-arrow\">LinearRegression</label><div class=\"sk-toggleable__content\"><pre>LinearRegression()</pre></div></div></div></div></div></div></div>"
      ],
      "text/plain": [
       "Pipeline(steps=[('columntransformer',\n",
       "                 ColumnTransformer(remainder='passthrough',\n",
       "                                   transformers=[('onehotencoder',\n",
       "                                                  OneHotEncoder(categories=[array(['BMW F750 GS 850cc', 'BMW G 310 GS', 'BMW G 310 R',\n",
       "       'BMW S 1000 RR', 'BMW S 1000 XR', 'Bajaj  Pulsar 180cc',\n",
       "       'Bajaj Avenger 150cc', 'Bajaj Avenger 180cc',\n",
       "       'Bajaj Avenger 200cc', 'Bajaj Avenger 220cc',\n",
       "       'Bajaj Avenger Cruise 220', 'Bajaj Avenger Stree...\n",
       "                                                                            array(['First Owner', 'Fourth Owner Or More', 'Second Owner',\n",
       "       'Third Owner'], dtype=object),\n",
       "                                                                            array(['BMW', 'Bajaj', 'Benelli', 'Ducati', 'Harley-Davidson', 'Hero',\n",
       "       'Honda', 'Hyosung', 'Ideal', 'Indian', 'Jawa', 'KTM', 'Kawasaki',\n",
       "       'LML', 'MV', 'Mahindra', 'Rajdoot', 'Royal Enfield', 'Suzuki',\n",
       "       'TVS', 'Triumph', 'Yamaha', 'Yezdi'], dtype=object)]),\n",
       "                                                  ['bike_name', 'city', 'owner',\n",
       "                                                   'brand'])])),\n",
       "                ('linearregression', LinearRegression())])"
      ]
     },
     "execution_count": 19,
     "metadata": {},
     "output_type": "execute_result"
    }
   ],
   "source": [
    "pipeline.fit(X_train, y_train)"
   ]
  },
  {
   "cell_type": "code",
   "execution_count": 20,
   "metadata": {},
   "outputs": [],
   "source": [
    "y_pred = pipeline.predict(X_test)"
   ]
  },
  {
   "cell_type": "code",
   "execution_count": 21,
   "metadata": {},
   "outputs": [
    {
     "data": {
      "text/plain": [
       "array([35182.16058826, 14616.41811594, 80592.07120956, ...,\n",
       "       -7596.96452737, 32298.81618518, 94082.87311093])"
      ]
     },
     "execution_count": 21,
     "metadata": {},
     "output_type": "execute_result"
    }
   ],
   "source": [
    "y_pred"
   ]
  },
  {
   "cell_type": "code",
   "execution_count": 22,
   "metadata": {},
   "outputs": [
    {
     "data": {
      "text/plain": [
       "0.8986057035929698"
      ]
     },
     "execution_count": 22,
     "metadata": {},
     "output_type": "execute_result"
    }
   ],
   "source": [
    "r2_score(y_test, y_pred)"
   ]
  },
  {
   "cell_type": "markdown",
   "metadata": {},
   "source": [
    "### model results and further steps\n",
    "- SimpleLinearRegression works! and it works quite well, 90% is a good result\n",
    "- though here are some other models i wanna test and i'll make the code compact using previous pipelines and a small section to pick the best one"
   ]
  },
  {
   "cell_type": "code",
   "execution_count": 24,
   "metadata": {},
   "outputs": [],
   "source": [
    "# Trying the DecisionTreeRegression\n",
    "from sklearn.tree import DecisionTreeRegressor\n",
    "DecisionTree = DecisionTreeRegressor(random_state = 0)\n",
    "\n",
    "pipeline2 = make_pipeline(\n",
    "    transformer, DecisionTree\n",
    ")"
   ]
  },
  {
   "cell_type": "code",
   "execution_count": 25,
   "metadata": {},
   "outputs": [],
   "source": [
    "# Trying the RandomForestRegressor\n",
    "from sklearn.ensemble import RandomForestRegressor\n",
    "RandomForest = RandomForestRegressor(n_estimators = 10, random_state = 0)\n",
    "\n",
    "pipeline3 = make_pipeline(\n",
    "    transformer, RandomForest\n",
    ")"
   ]
  },
  {
   "cell_type": "code",
   "execution_count": 26,
   "metadata": {},
   "outputs": [],
   "source": [
    "pipelines = [pipeline, pipeline2, pipeline3]\n",
    "\n",
    "bes_acc = 0.0\n",
    "best_classifier = 0\n",
    "best_pipeline = \"\""
   ]
  },
  {
   "cell_type": "code",
   "execution_count": 27,
   "metadata": {},
   "outputs": [],
   "source": [
    "pipe_dict = {0: 'Linear_Regression', 1: 'Decision_tree', 2: 'Random_forest'}\n",
    "\n",
    "for pipe in pipelines:\n",
    "    pipe.fit(X_train, y_train)"
   ]
  },
  {
   "cell_type": "code",
   "execution_count": 30,
   "metadata": {},
   "outputs": [],
   "source": [
    "y_pred2 = pipeline2.predict(X_test)\n",
    "y_pred3 = pipeline3.predict(X_test)\n",
    "\n",
    "predictions = [y_pred, y_pred2, y_pred3]"
   ]
  },
  {
   "cell_type": "code",
   "execution_count": 31,
   "metadata": {},
   "outputs": [
    {
     "name": "stdout",
     "output_type": "stream",
     "text": [
      "Linear_Regression Test Accuracy: 0.8986057035929698\n",
      "Decision_tree Test Accuracy: 0.9030475254554818\n",
      "Random_forest Test Accuracy: 0.9191467861660407\n"
     ]
    }
   ],
   "source": [
    "for i,model in enumerate(pipelines):\n",
    "    print('{} Test Accuracy: {}'.format(pipe_dict[i], r2_score(y_test, predictions[i])))"
   ]
  }
 ],
 "metadata": {
  "kernelspec": {
   "display_name": "Python 3.10.2 64-bit",
   "language": "python",
   "name": "python3"
  },
  "language_info": {
   "codemirror_mode": {
    "name": "ipython",
    "version": 3
   },
   "file_extension": ".py",
   "mimetype": "text/x-python",
   "name": "python",
   "nbconvert_exporter": "python",
   "pygments_lexer": "ipython3",
   "version": "3.10.2"
  },
  "orig_nbformat": 4,
  "vscode": {
   "interpreter": {
    "hash": "8f954bdca9efae9177eecfffd33e0726fb7b22a21b0b5616d5d89e4484d0e0d9"
   }
  }
 },
 "nbformat": 4,
 "nbformat_minor": 2
}
